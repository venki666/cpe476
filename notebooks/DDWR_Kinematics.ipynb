{
  "cells": [
    {
      "cell_type": "markdown",
      "metadata": {
        "id": "view-in-github",
        "colab_type": "text"
      },
      "source": [
        "<a href=\"https://colab.research.google.com/github/venki666/cpe476/blob/master/notebooks/DDWR_Kinematics.ipynb\" target=\"_parent\"><img src=\"https://colab.research.google.com/assets/colab-badge.svg\" alt=\"Open In Colab\"/></a>"
      ]
    },
    {
      "cell_type": "markdown",
      "metadata": {
        "id": "pbhkTOY-0IxU"
      },
      "source": [
        "# DDMWR Forward Kinematics\n",
        "\n",
        "## Differential drive\n",
        "\n",
        "$ (x, y, \\theta) $ - the pose of the robot  \n",
        "$ v_l $, $ v_r $ - the speed of the left and right wheel  \n",
        "$ t $ - the driving time  \n",
        "$ l $ - the distance between the wheels  \n",
        "\n",
        "Radius:\n",
        "\n",
        "$$ R = \\frac{l}{2} \\frac{v_r + v_l}{v_r - v_l} $$\n",
        "\n",
        "ICC - Instantaneous center of curvature:\n",
        "\n",
        "$$ ICC = [ x - R \\sin{\\theta} , y + R \\cos{\\theta} ] $$\n",
        "\n",
        "Angular speed:\n",
        "\n",
        "$$ \\omega = \\frac{v_r - v_l}{l} $$\n",
        "\n",
        "### Forward kinematics\n",
        "\n",
        "\\begin{equation}\n",
        "    \\begin{pmatrix}\n",
        "    x' \\\\\n",
        "    y' \\\\\n",
        "    \\theta'\n",
        "    \\end{pmatrix} = \n",
        "    \\begin{pmatrix}\n",
        "    \\cos{\\omega t} & -\\sin{\\omega t} & 0\\\\\n",
        "    \\sin{\\omega t} & \\cos{\\omega t}  & 0\\\\\n",
        "    0 & 0 & 1\n",
        "    \\end{pmatrix} \\cdot\n",
        "    \\begin{pmatrix}\n",
        "    x - ICC_{x} \\\\\n",
        "    y - ICC{y} \\\\\n",
        "    \\theta\n",
        "    \\end{pmatrix} +\n",
        "    \\begin{pmatrix}\n",
        "    ICC_{x} \\\\\n",
        "    ICC{y} \\\\\n",
        "    \\omega t\n",
        "    \\end{pmatrix}\n",
        "\\end{equation}\n"
      ]
    },
    {
      "cell_type": "code",
      "execution_count": 1,
      "metadata": {
        "id": "B1s3ISFR0IxW"
      },
      "outputs": [],
      "source": [
        "import numpy as np\n",
        "import matplotlib.pyplot as plt"
      ]
    },
    {
      "cell_type": "code",
      "execution_count": 2,
      "metadata": {
        "id": "N40o5rru0IxX"
      },
      "outputs": [],
      "source": [
        "def diffdrive(x, y, theta, v_l, v_r, t, l):\n",
        "    '''\n",
        "    x - starting x coordinate\n",
        "    y - starting y coordinate\n",
        "    theta - starting orientation\n",
        "    v_l - velocity of the left wheel\n",
        "    v_r - velocity of the right wheel\n",
        "    t - driving time\n",
        "    l - distance between the wheels\n",
        "    '''\n",
        "\n",
        "    # v_l = v_r -> robot goes straight (v_r - v_l == 0 means the radius is infinite)\n",
        "    if v_l == v_r:\n",
        "        v = (v_l + v_r) / 2\n",
        "        s = v * t\n",
        "        x_n = x + s * np.cos(theta)\n",
        "        y_n = y + s * np.sin(theta)\n",
        "        theta_n = theta\n",
        "\n",
        "    # v_l != v_r -> robot circles\n",
        "    else:\n",
        "        R = (l / 2) * ((v_r + v_l) / (v_r - v_l))\n",
        "        x_ICC = x - R * np.sin(theta)\n",
        "        y_ICC = y + R * np.cos(theta)\n",
        "        omega = (v_r - v_l) / l\n",
        "        dtheta = omega * t\n",
        "        theta_n = theta + dtheta\n",
        "        dx = x - x_ICC\n",
        "        dy = y - y_ICC\n",
        "        x_n = x_ICC + dx * np.cos(dtheta) - dy * np.sin(dtheta)\n",
        "        y_n = y_ICC + dx * np.sin(dtheta) + dy * np.cos(dtheta)\n",
        "\n",
        "    return x_n, y_n, theta_n"
      ]
    },
    {
      "cell_type": "markdown",
      "metadata": {
        "id": "AMwHoY030IxX"
      },
      "source": [
        "### Example\n",
        "\n",
        "The distance $ l $ between the wheels of the robot is $ 0.5 m $.  \n",
        "After reaching position $ x = 1.5 m, y = 2.0 m, \\theta = \\frac{\\pi}{2}$, the robot executes the following sequence of steering commands:\n",
        "$$ c_1 = (v_l = 0.3 m/s, v_r = 0.3 m/s, t = 3 s) $$\n",
        "$$ c_2 = (v_l = 0.1 m/s, v_r = -0.1 m/s, t = 1 s) $$\n",
        "$$ c_3 = (v_l = 0.2 m/s, v_r = 0 m/s, t = 2 s) $$\n",
        "The position of the robot after the execution of each command in the sequence is:"
      ]
    },
    {
      "cell_type": "code",
      "execution_count": 3,
      "metadata": {
        "colab": {
          "base_uri": "https://localhost:8080/",
          "height": 369
        },
        "id": "jhjKFk830IxX",
        "outputId": "473a70dd-2ba2-477e-87e5-77c90906bc85"
      },
      "outputs": [
        {
          "output_type": "stream",
          "name": "stdout",
          "text": [
            "Executing c1...\n",
            "p1 = (1.500000, 2.900000, 1.570796)\n",
            "Executing c2...\n",
            "p2 = (1.500000, 2.900000, 1.370796)\n",
            "Executing c3...\n",
            "p3 = (1.654731, 3.265973, 0.970796)\n"
          ]
        },
        {
          "output_type": "display_data",
          "data": {
            "text/plain": [
              "<Figure size 432x288 with 1 Axes>"
            ],
            "image/png": "[encoded data removed]"
          },
          "metadata": {
            "needs_background": "light"
          }
        }
      ],
      "source": [
        "l = 2.0\n",
        "\n",
        "x, y, theta = 1.5, 2, np.pi / 2\n",
        "\n",
        "commands = [\n",
        "    (0.3, 0.3, 3),  # c1\n",
        "    (0.1, -0.1, 2), # c2\n",
        "    (0.2, 0, 4)     # c3\n",
        "]\n",
        "\n",
        "for i, (v_l, v_r, t) in enumerate(commands):\n",
        "    print(\"Executing c{}...\".format(i + 1))\n",
        "    x, y, theta = diffdrive(x, y, theta, v_l, v_r, t, l)    \n",
        "    print(\"p{} = ({:2f}, {:2f}, {:2f})\".format(i + 1, x, y, theta))\n",
        "    plt.scatter([x], [y])\n",
        "    plt.text(x, y, \"p{}\".format(i + 1))\n",
        "\n",
        "plt.grid()"
      ]
    },
    {
      "cell_type": "code",
      "source": [
        "import numpy as np\n",
        "import matplotlib.pyplot as plt\n",
        "#from diffdrive import diffdrive\n",
        "plt.gca().set_aspect('equal')\n",
        "# set the distance between the wheels and the initial robot position\n",
        "l = 0.5\n",
        "ntheta = 0.0\n",
        "x, y, theta = 1.5, 2.0, np.pi/2.0\n",
        "# plot the starting position\n",
        "plt.quiver(x, y, np.cos(theta), np.sin(theta))\n",
        "print(\"starting pose: x: %f, y: %f, theta: %f\" % (x, y, theta))\n",
        "# first motion\n",
        "v_l = 0.3\n",
        "v_r = 0.3\n",
        "t = 3\n",
        "x, y, ntheta = diffdrive(x, y, theta, v_l, v_r, t, l)\n",
        "plt.quiver(x, y, np.cos(ntheta), np.sin(ntheta))\n",
        "print(\"after motion 1: x: %f, y: %f, theta: %f\" % (x, y, ntheta))\n",
        "# second motion\n",
        "v_l = 0.1\n",
        "v_r = -0.1\n",
        "t = 2\n",
        "x, y, ntheta = diffdrive(x, y, theta, v_l, v_r, t, l)\n",
        "plt.quiver(x, y, np.cos(ntheta), np.sin(ntheta))\n",
        "print(\"after motion 2: x: %f, y: %f, theta: %f\" % (x, y, ntheta))\n",
        "# third motion\n",
        "v_l = 0.5\n",
        "v_r = 0.0\n",
        "t = 4\n",
        "x, y, ntheta = diffdrive(x, y, theta, v_l, v_r, t, l)\n",
        "plt.quiver(x, y, np.cos(ntheta), np.sin(ntheta))\n",
        "print(\"after motion 3: x: %f, y: %f, theta: %f\" % (x, y, ntheta))\n",
        "plt.xlim([0.5, 2.5])\n",
        "plt.ylim([1.5, 3.5])\n",
        "plt.savefig(\"poses.png\")\n",
        "plt.show()\n"
      ],
      "metadata": {
        "colab": {
          "base_uri": "https://localhost:8080/",
          "height": 338
        },
        "id": "plypVJCv4HFI",
        "outputId": "cd38e353-55f3-4783-831f-183e56498d6a"
      },
      "execution_count": 6,
      "outputs": [
        {
          "output_type": "stream",
          "name": "stdout",
          "text": [
            "starting pose: x: 1.500000, y: 2.000000, theta: 1.570796\n",
            "after motion 1: x: 1.500000, y: 2.900000, theta: 1.570796\n",
            "after motion 2: x: 1.500000, y: 2.900000, theta: 0.770796\n",
            "after motion 3: x: 1.913411, y: 2.710799, theta: -2.429204\n"
          ]
        },
        {
          "output_type": "display_data",
          "data": {
            "text/plain": [
              "<Figure size 432x288 with 1 Axes>"
            ],
            "image/png": "[encoded data removed]"
          },
          "metadata": {
            "needs_background": "light"
          }
        }
      ]
    },
    {
      "cell_type": "code",
      "source": [
        "from math import sin,cos\n",
        "def diffdrive(x, y, theta, v_l, v_r, t, l):\n",
        "    \"\"\"\n",
        "    Simulates two-wheeled robot executing differential drive control commands\n",
        "    :param x,y current robot position\n",
        "    :param theta current robot orientation\n",
        "    :param v_l Revolver speed control command\n",
        "    :param v_r Right wheel speed control command\n",
        "    :param t current command duration\n",
        "    :param l the width of the two wheels\n",
        "    :return: The position x_t, y_t the robot reaches after executing the command\n",
        "    and its towards theta_n\n",
        "    \"\"\"\n",
        "    \n",
        "    # 1. First calculate the change of the robot's orientation angle, \n",
        "    # and the right wheel moves in a circular motion relative to the left wheel\n",
        "    # Only the difference between the two wheels will change the robot orientation\n",
        "    d_v = v_r - v_l\n",
        "    omega = d_v/(l/2) # angular velocity of robot orientation change\n",
        "    d_theta = omega * t\n",
        "    theta_t = theta + d_theta\n",
        "    \n",
        "    \n",
        "    # 2. Calculate the robot position at time t\n",
        "    if v_l == v_r:\n",
        "        x_t = x + t*(v_l + v_r)/2*sin(theta)\n",
        "        y_t = y + t*(v_l + v_r)/2*cos(theta)\n",
        "    else:\n",
        "        x_t = x + (v_l + v_r)/2 * (-l/d_v*cos(theta + d_v/l*t)+l/d_v)\n",
        "        y_t = y + (v_l + v_r)/2 * (l/d_v) * sin(theta + d_v/l*t)\n",
        "    pass\n",
        "\n",
        "    return x_t, y_t, theta_t"
      ],
      "metadata": {
        "id": "PmaGT48z4URW"
      },
      "execution_count": null,
      "outputs": []
    }
  ],
  "metadata": {
    "kernelspec": {
      "display_name": "Python 3",
      "language": "python",
      "name": "python3"
    },
    "language_info": {
      "codemirror_mode": {
        "name": "ipython",
        "version": 3
      },
      "file_extension": ".py",
      "mimetype": "text/x-python",
      "name": "python",
      "nbconvert_exporter": "python",
      "pygments_lexer": "ipython3",
      "version": "3.6.5"
    },
    "colab": {
      "provenance": [],
      "include_colab_link": true
    }
  },
  "nbformat": 4,
  "nbformat_minor": 0
}