{
  "metadata": {
    "kernelspec": {
      "name": "python",
      "display_name": "Python (Pyodide)",
      "language": "python"
    },
    "language_info": {
      "codemirror_mode": {
        "name": "python",
        "version": 3
      },
      "file_extension": ".py",
      "mimetype": "text/x-python",
      "name": "python",
      "nbconvert_exporter": "python",
      "pygments_lexer": "ipython3",
      "version": "3.8"
    }
  },
  "nbformat_minor": 4,
  "nbformat": 4,
  "cells": [
    {
      "cell_type": "markdown",
      "source": "# Introduction to Linear algebra",
      "metadata": {}
    },
    {
      "cell_type": "code",
      "source": "import numpy as np\nimport matplotlib.pyplot as plt",
      "metadata": {},
      "execution_count": 55,
      "outputs": []
    },
    {
      "cell_type": "code",
      "source": "''' Matrix check operations '''\n\ndef is_symmetric(matrix):\n    np.all(matrix == matrix.T)\n\ndef is_orthogonal(matrix):\n    rows, cols = matrix.shape\n    if rows != cols:\n        return False\n    \n    P = matrix * matrix.T\n    I = np.identity(rows)\n\n    return np.allclose(P, I)",
      "metadata": {},
      "execution_count": 56,
      "outputs": []
    },
    {
      "cell_type": "markdown",
      "source": "The homogeneous transformation matrix that represents pose $ \\mathbf{p} = (x, y, \\theta)^T $ w.r.t. to the origin $ (0, 0, 0)^T $ of the global coordinate system is given by\n\n\\begin{equation}\n    \\mathbf{P} = \\begin{pmatrix}\n    \\cos{\\theta} & -\\sin{\\theta} & x \\\\\n    \\sin{\\theta} & \\cos{\\theta} & y \\\\\n    0 & 0 & 1\n    \\end{pmatrix}\n    = \\begin{pmatrix}\n    \\mathbf{R} & \\mathbf{t} \\\\\n    0 & 1 \\\\\n    \\end{pmatrix}\n\\end{equation}\n\nwhere\n\n\\begin{equation}\n    \\mathbf{R} = \\begin{pmatrix}\n    \\cos{\\theta} & -\\sin{\\theta} \\\\\n    \\sin{\\theta} & \\cos{\\theta} \\\\\n    \\end{pmatrix}\n\\end{equation}\n\\begin{equation}\n    \\mathbf{t} = \\begin{pmatrix}\n    x \\\\\n    y \\\\\n    \\end{pmatrix}\n\\end{equation}",
      "metadata": {}
    },
    {
      "cell_type": "code",
      "source": "def system_matrix(x, y, theta):\n    cos = np.cos(theta)\n    sin = np.sin(theta)\n    return np.array([\n        [cos, -sin, x],\n        [sin,  cos, y],\n        [  0,    0, 1]\n    ])",
      "metadata": {},
      "execution_count": 57,
      "outputs": []
    },
    {
      "cell_type": "markdown",
      "source": "## Coordinate frame transformation\n\n\n### Local $ \\rightarrow $ global\n\nWhile being at pose $ \\mathbf{p_1} = (x_1 , y_1 , θ_1 )^T $, the robot senses a landmark at position\n$ \\mathbf{l} = (l_x , l_y) $ w.r.t. its local frame.\n\nCoordinates of $ \\mathbf{l} $ w.r.t. the global frame are then:\n\n\\begin{equation}\n    \\mathbf{l_{global}} = \\mathbf{P} \\cdot \\mathbf{l_{local}}\n\\end{equation}\n\nwhere $ \\mathbf{l_{local}} $ is a position vector of a landmark given by\n\n\n\\begin{equation}\n    \\mathbf{l_{local}} = \\begin{pmatrix}\n    l_x \\\\\n    l_y \\\\\n    1\n    \\end{pmatrix}\n\\end{equation}",
      "metadata": {}
    },
    {
      "cell_type": "code",
      "source": "def position_vector(x, y):\n    return np.array([\n        x,\n        y,\n        1\n    ])",
      "metadata": {},
      "execution_count": 58,
      "outputs": []
    },
    {
      "cell_type": "code",
      "source": "# Robot\nx1, y1, theta1 = 4, 2, 0\np1 = (x1, y1, theta1)\nP1 = system_matrix(*p1)\nprint(\"Robot's coordinate frame matrix:\")\nprint(P1)\n\n# Landmark w.r.t. robot's frame\nl_local = position_vector(-2, 5)\nprint(\"Landmark's position vector:\")\nprint(l_local)\n\n# Landmark w.r.t. global frame\nl_global = P1.dot(l_local)\nlx_global = l_global[0]\nly_global = l_global[1]\nprint(\"Landmark's global position:\")\nprint(l_global)\n\n# Plot the global positions\nplt.scatter([x1], [y1], label = \"Robot\")\nplt.scatter([lx_global], [ly_global], label = \"Landmark\")\n\nplt.grid()\nplt.legend(loc = \"best\")\nplt.show()",
      "metadata": {},
      "execution_count": 59,
      "outputs": [
        {
          "name": "stdout",
          "output_type": "stream",
          "text": "Robot's coordinate frame matrix:\n\n[[ 1. -0.  4.]\n\n [ 0.  1.  2.]\n\n [ 0.  0.  1.]]\n\nLandmark's position vector:\n\n[-2  5  1]\n\nLandmark's global position:\n\n[2. 7. 1.]\n"
        },
        {
          "output_type": "display_data",
          "data": {
            "image/png": "[encoded data removed]",
            "text/plain": [
              "<Figure size 432x288 with 1 Axes>"
            ]
          },
          "metadata": {}
        }
      ]
    },
    {
      "cell_type": "markdown",
      "source": "### Global $ \\rightarrow $ local\n\nNow imagine that you are given the landmark’s coordinates w.r.t. the global frame.\nThe coordinates that the robot will sense in its local frame are then\n\n\\begin{equation}\n    \\mathbf{l_{local}} = \\mathbf{P}^{-1} \\cdot \\mathbf{l_{global}}\n\\end{equation}\n\nwhere the inverse of the system matrix is\n\n\\begin{equation}\n    \\mathbf{P}^{-1} = \\begin{pmatrix}\n    \\mathbf{R}^{T} & -\\mathbf{R}^{T}\\mathbf{t} \\\\\n    0 & 1 \\\\\n    \\end{pmatrix}\n\\end{equation}\n",
      "metadata": {}
    },
    {
      "cell_type": "code",
      "source": "def inv_system_matrix(system_matrix):\n    R = system_matrix[0:2, 0:2]\n    t = system_matrix[0:2, 2]\n    \n    R_new = R.T\n    t_new = (-R.T).dot(t)\n    \n    return np.block([\n        [R_new, np.expand_dims(t_new, axis = 1)],\n        [0, 0, 1]\n    ])",
      "metadata": {},
      "execution_count": 60,
      "outputs": []
    },
    {
      "cell_type": "code",
      "source": "# Inverse of the robot's system matrix\nP1_inv = inv_system_matrix(P1)\nI = np.identity(P1.shape[0])\n\n# Make sure that P1_inv is really an inverse of P1\nassert np.allclose(P1.dot(P1_inv), I) \n\nl_global = position_vector(lx_global, ly_global)\nl_local = P1_inv.dot(l_global)\nprint(\"Landmark's position in the robot's frame:\")\nprint(l_local)",
      "metadata": {},
      "execution_count": 61,
      "outputs": [
        {
          "name": "stdout",
          "output_type": "stream",
          "text": "Landmark's position in the robot's frame:\n\n[-2.  5.  1.]\n"
        }
      ]
    },
    {
      "cell_type": "markdown",
      "source": "### Robot's movement\n\nThe robot moves to a new pose $ \\mathbf{p_2} = (x_2 , y_2 , \\theta_2)^T $ w.r.t. the global frame. Now, we want to find the transformation matrix $ \\mathbf{T_{12}} $ that represents the new pose $ \\mathbf{p_2} $ w.r.t. $ \\mathbf{p_1} $. \n\n\\begin{equation}\n    \\mathbf{P_2} = \\mathbf{T_{12}} \\cdot \\mathbf{P_1}\n\\end{equation}\n\nIn order to do that we are going to write $ \\mathbf{T_{12}} $ as a product of homogeneous transformation matrices.\n\n\n\\begin{equation}\n    \\mathbf{P_{2}} = \\mathbf{P_2} \\cdot \\mathbf{I} = \\mathbf{P_2} \\cdot \\mathbf{P_1}^{-1} \\cdot \\mathbf{P_1} = \\mathbf{T_{12}} \\cdot \\mathbf{P_1}\n\\end{equation}\n\nwhere\n\n\\begin{equation}\n    \\mathbf{T_{12}} = \\mathbf{P_2} \\cdot \\mathbf{P_1}^{-1}\n\\end{equation}",
      "metadata": {}
    },
    {
      "cell_type": "code",
      "source": "# Robot's new position\nx2, y2, theta2 = 1, 1, np.pi/2\np2 = (x2, y2, theta2)\nP2 = system_matrix(*p2)\nprint(\"Robot's new coordinate frame matrix:\")\nprint(P2)\n\n# Transformation matrix\nprint(\"Transformation matrix from P1 to P2:\")\nT_12 = P2.dot(P1_inv)\nprint(T_12)\n\n# Make sure that T_12 transforms P1 to P2\nassert np.allclose(P2, T_12.dot(P1))",
      "metadata": {},
      "execution_count": 62,
      "outputs": [
        {
          "name": "stdout",
          "output_type": "stream",
          "text": "Robot's new coordinate frame matrix:\n\n[[ 6.123234e-17 -1.000000e+00  1.000000e+00]\n\n [ 1.000000e+00  6.123234e-17  1.000000e+00]\n\n [ 0.000000e+00  0.000000e+00  1.000000e+00]]\n\nTransformation matrix from P1 to P2:\n\n[[ 6.123234e-17 -1.000000e+00  3.000000e+00]\n\n [ 1.000000e+00  6.123234e-17 -3.000000e+00]\n\n [ 0.000000e+00  0.000000e+00  1.000000e+00]]\n"
        }
      ]
    },
    {
      "cell_type": "markdown",
      "source": "The robot is at position $ \\mathbf{p_2} $. The landmark's position w.r.t. the robot’s local frame is now:\n\n\\begin{equation}\n\\begin{cases}\n    \\mathbf{l_{global}} = \\mathbf{P_1} \\cdot \\mathbf{l_{local}^{P_1}} \\\\\n    \\mathbf{l_{global}} = \\mathbf{P_2} \\cdot \\mathbf{l_{local}^{P_2}}\n\\end{cases}\n\\end{equation}\n\n\\begin{equation}\n\\mathbf{P_1} \\cdot \\mathbf{l_{local}^{P_1}} = \\mathbf{P_2} \\cdot \\mathbf{l_{local}^{P_2}} \\\\\n\\end{equation}\n\nTherefore:\n\n\\begin{equation}\n    \\mathbf{l_{local}^{P_2}} = \\mathbf{P_2}^{-1} \\cdot \\mathbf{P_1} \\cdot \\mathbf{l_{local}^{P_1}}\n\\end{equation}",
      "metadata": {}
    },
    {
      "cell_type": "code",
      "source": "# Landmarks position w.r.t. P2\nl_local_P1 = l_local\nl_local_P2 = inv_system_matrix(P2).dot(P1).dot(l_local_P1)\nprint(\"Landmark's local position vector in the robot's new coordinate frame:\")\nprint(l_local_P2)",
      "metadata": {},
      "execution_count": 63,
      "outputs": [
        {
          "name": "stdout",
          "output_type": "stream",
          "text": "Landmark's local position vector in the robot's new coordinate frame:\n\n[ 6. -1.  1.]\n"
        }
      ]
    },
    {
      "cell_type": "markdown",
      "source": "### 3D Rotations and Euler angles in Python\n**Euler’s theorem**\n“Each movement of a rigid body in three-dimensional space, with a point that remains fixed, is equivalent to a single rotation of the body around an axis passing through the fixed point”\n\nThis theorem was formulated by Euler in 1775.\n\nIn other words, if we consider two Cartesian reference systems, one (X0,Y0,Z0) and the other (X1,Y1,Z1) which have the same origin point O, but different orientation, there will always be a single axis of rotation with which the first system will assume the same configuration as the second system.\n\nAngoli di Eulero - due sistemi di riferimento\nIn an even simpler way, any rotation can be described by a sequence of three successive rotations, also called elementary rotations, which occur around one of the three coordinate axes X, Y and Z\n\n\n**Elementary rotations**\nThere are therefore three elementary rotations, each around its Cartesian reference axis X, Y and Z. But the rotation around an axis can occur in two opposite directions. But which of the two is the positive one?\n\nRotation around an axis is positive if it meets the right hand rule. For example in the case of rotation around the z axis, the rotation will be positive depending on the arrangement of the X and Y axes in the representation.\n\nQuesta immagine ha l'attributo alt vuoto; il nome del file è Angoli-di-Eulero-Rotazione-elementare-regola-della-mano-destra.jpg\nTherefore the direction of the three elementary rotations will be the one shown in the following figure.\n\nQuesta immagine ha l'attributo alt vuoto; il nome del file è Angoli-di-Eulero-verso-delle-rotazioni-elementari.jpg\nEach elementary rotation can be transcribed as a 3×3 matrix (homogeneous transformation).\n\nRotation on the X axis\n R{x} = \\begin{pmatrix} 1 & 0 & 0 \\\\ 0 & \\cos\\theta & -\\sin\\theta \\\\ 0 & \\sin\\theta & \\cos\\theta \\end{pmatrix} \n\nRotation on the Y axis\n R{y} = \\begin{pmatrix} \\cos\\theta & 0 & \\sin\\theta \\\\ 0 & 1 & 0 \\\\ -\\sin\\theta & 0 & \\cos\\theta \\end{pmatrix} \n\nRotation on the Z axis\n R{z} = \\begin{pmatrix} \\cos\\theta & -\\sin\\theta & 0 \\\\ \\sin\\theta & \\cos\\theta & 0 \\\\ 0 & 0 & 1 \\end{pmatrix} ",
      "metadata": {}
    },
    {
      "cell_type": "code",
      "source": "import numpy as np\nimport math as m\n  \ndef Rx(theta):\n  return np.matrix([[ 1, 0           , 0           ],\n                   [ 0, m.cos(theta),-m.sin(theta)],\n                   [ 0, m.sin(theta), m.cos(theta)]])\n  \ndef Ry(theta):\n  return np.matrix([[ m.cos(theta), 0, m.sin(theta)],\n                   [ 0           , 1, 0           ],\n                   [-m.sin(theta), 0, m.cos(theta)]])\n  \ndef Rz(theta):\n  return np.matrix([[ m.cos(theta), -m.sin(theta), 0 ],\n                   [ m.sin(theta), m.cos(theta) , 0 ],\n                   [ 0           , 0            , 1 ]])",
      "metadata": {
        "trusted": true
      },
      "execution_count": 2,
      "outputs": []
    },
    {
      "cell_type": "markdown",
      "source": "**Euler’s angles**\nTherefore a generic rotation is described in turn by a rotation matrix R. Any matrix of this type can be described as the product of successive rotations around the principal axes of the XYZ coordinates, taken in a precise order.\n\nSo any rotation could be decomposed into the sequence of three elementary matrices. For example, the most intuitive is that which is obtained first by performing a rotation on the X axis by an angle φ, then on the Y axis by an angle θ and finally on the Z axis by an angle ψ\n\n R{x} (\\varphi) \\rightarrow R{y} (\\theta) \\rightarrow R{z} (\\psi) \n\nThe triplet of the angles used in these elementary rotations are the Euler angles and are normally indicated (φ, θ, ψ).\n\nLet’s take an example in Python. We choose three euler angles and then we multiply the elementary rotation matrices R ZYZ",
      "metadata": {}
    },
    {
      "cell_type": "code",
      "source": "phi = m.pi/2\ntheta = m.pi/4\npsi = m.pi/2\nprint(\"phi =\", phi)\nprint(\"theta  =\", theta)\nprint(\"psi =\", psi)\n  \n  \nR = Rz(psi) * Ry(theta) * Rx(phi)\nprint(np.round(R, decimals=2))",
      "metadata": {
        "trusted": true
      },
      "execution_count": 3,
      "outputs": [
        {
          "name": "stdout",
          "text": "phi = 1.5707963267948966\ntheta  = 0.7853981633974483\npsi = 1.5707963267948966\n[[ 0.   -0.    1.  ]\n [ 0.71  0.71 -0.  ]\n [-0.71  0.71  0.  ]]\n",
          "output_type": "stream"
        }
      ]
    },
    {
      "cell_type": "markdown",
      "source": "But it is also possible to perform the reverse operation. That is, knowing the rotation matrix, it is possible to derive the three Euler angles.",
      "metadata": {}
    },
    {
      "cell_type": "code",
      "source": "import sys\ntol = sys.float_info.epsilon * 10\n  \nif abs(R.item(0,0))< tol and abs(R.item(1,0)) < tol:\n   eul1 = 0\n   eul2 = m.atan2(-R.item(2,0), R.item(0,0))\n   eul3 = m.atan2(-R.item(1,2), R.item(1,1))\nelse:   \n   eul1 = m.atan2(R.item(1,0),R.item(0,0))\n   sp = m.sin(eul1)\n   cp = m.cos(eul1)\n   eul2 = m.atan2(-R.item(2,0),cp*R.item(0,0)+sp*R.item(1,0))\n   eul3 = m.atan2(sp*R.item(0,2)-cp*R.item(1,2),cp*R.item(1,1)-sp*R.item(0,1))\n  \nprint(\"phi =\", eul1)\nprint(\"theta  =\", eul2)\nprint(\"psi =\", eul3)",
      "metadata": {
        "trusted": true
      },
      "execution_count": 4,
      "outputs": [
        {
          "name": "stdout",
          "text": "phi = 1.5707963267948966\ntheta  = 0.7853981633974483\npsi = 1.5707963267948966\n",
          "output_type": "stream"
        }
      ]
    },
    {
      "cell_type": "code",
      "source": "",
      "metadata": {},
      "execution_count": null,
      "outputs": []
    }
  ]
}