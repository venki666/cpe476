{
  "metadata": {
    "kernelspec": {
      "name": "python3",
      "display_name": "Python 3"
    },
    "language_info": {
      "name": "python"
    },
    "colab": {
      "provenance": [],
      "include_colab_link": true
    }
  },
  "nbformat_minor": 0,
  "nbformat": 4,
  "cells": [
    {
      "cell_type": "markdown",
      "metadata": {
        "id": "view-in-github",
        "colab_type": "text"
      },
      "source": [
        "<a href=\"https://colab.research.google.com/github/venki666/cpe476/blob/master/notebooks/linear_algebra.ipynb\" target=\"_parent\"><img src=\"https://colab.research.google.com/assets/colab-badge.svg\" alt=\"Open In Colab\"/></a>"
      ]
    },
    {
      "cell_type": "markdown",
      "source": [
        "# Introduction to Linear algebra"
      ],
      "metadata": {
        "id": "6QJZC8wrg32D"
      }
    },
    {
      "cell_type": "code",
      "source": [
        "import numpy as np\n",
        "import matplotlib.pyplot as plt"
      ],
      "metadata": {
        "trusted": true,
        "id": "FKbw_HaVg32E"
      },
      "execution_count": 2,
      "outputs": []
    },
    {
      "cell_type": "code",
      "source": [
        "''' Matrix check operations '''\n",
        "\n",
        "def is_symmetric(matrix):\n",
        "    np.all(matrix == matrix.T)\n",
        "\n",
        "def is_orthogonal(matrix):\n",
        "    rows, cols = matrix.shape\n",
        "    if rows != cols:\n",
        "        return False\n",
        "    \n",
        "    P = matrix * matrix.T\n",
        "    I = np.identity(rows)\n",
        "\n",
        "    return np.allclose(P, I)"
      ],
      "metadata": {
        "id": "UTybHsgrg32F"
      },
      "execution_count": 3,
      "outputs": []
    },
    {
      "cell_type": "markdown",
      "source": [
        "The homogeneous transformation matrix that represents pose $ \\mathbf{p} = (x, y, \\theta)^T $ w.r.t. to the origin $ (0, 0, 0)^T $ of the global coordinate system is given by\n",
        "\n",
        "\\begin{equation}\n",
        "    \\mathbf{P} = \\begin{pmatrix}\n",
        "    \\cos{\\theta} & -\\sin{\\theta} & x \\\\\n",
        "    \\sin{\\theta} & \\cos{\\theta} & y \\\\\n",
        "    0 & 0 & 1\n",
        "    \\end{pmatrix}\n",
        "    = \\begin{pmatrix}\n",
        "    \\mathbf{R} & \\mathbf{t} \\\\\n",
        "    0 & 1 \\\\\n",
        "    \\end{pmatrix}\n",
        "\\end{equation}\n",
        "\n",
        "where\n",
        "\n",
        "\\begin{equation}\n",
        "    \\mathbf{R} = \\begin{pmatrix}\n",
        "    \\cos{\\theta} & -\\sin{\\theta} \\\\\n",
        "    \\sin{\\theta} & \\cos{\\theta} \\\\\n",
        "    \\end{pmatrix}\n",
        "\\end{equation}\n",
        "\\begin{equation}\n",
        "    \\mathbf{t} = \\begin{pmatrix}\n",
        "    x \\\\\n",
        "    y \\\\\n",
        "    \\end{pmatrix}\n",
        "\\end{equation}"
      ],
      "metadata": {
        "id": "PxUq98NVg32F"
      }
    },
    {
      "cell_type": "code",
      "source": [
        "def system_matrix(x, y, theta):\n",
        "    cos = np.cos(theta)\n",
        "    sin = np.sin(theta)\n",
        "    return np.array([\n",
        "        [cos, -sin, x],\n",
        "        [sin,  cos, y],\n",
        "        [  0,    0, 1]\n",
        "    ])"
      ],
      "metadata": {
        "id": "XxihwrO0g32G"
      },
      "execution_count": 4,
      "outputs": []
    },
    {
      "cell_type": "markdown",
      "source": [
        "## Coordinate frame transformation\n",
        "\n",
        "\n",
        "### Local $ \\rightarrow $ global\n",
        "\n",
        "While being at pose $ \\mathbf{p_1} = (x_1 , y_1 , θ_1 )^T $, the robot senses a landmark at position\n",
        "$ \\mathbf{l} = (l_x , l_y) $ w.r.t. its local frame.\n",
        "\n",
        "Coordinates of $ \\mathbf{l} $ w.r.t. the global frame are then:\n",
        "\n",
        "\\begin{equation}\n",
        "    \\mathbf{l_{global}} = \\mathbf{P} \\cdot \\mathbf{l_{local}}\n",
        "\\end{equation}\n",
        "\n",
        "where $ \\mathbf{l_{local}} $ is a position vector of a landmark given by\n",
        "\n",
        "\n",
        "\\begin{equation}\n",
        "    \\mathbf{l_{local}} = \\begin{pmatrix}\n",
        "    l_x \\\\\n",
        "    l_y \\\\\n",
        "    1\n",
        "    \\end{pmatrix}\n",
        "\\end{equation}"
      ],
      "metadata": {
        "id": "xzvQqWeNg32G"
      }
    },
    {
      "cell_type": "code",
      "source": [
        "def position_vector(x, y):\n",
        "    return np.array([\n",
        "        x,\n",
        "        y,\n",
        "        1\n",
        "    ])"
      ],
      "metadata": {
        "id": "lbeSAjOQg32H"
      },
      "execution_count": 5,
      "outputs": []
    },
    {
      "cell_type": "code",
      "source": [
        "# Robot\n",
        "x1, y1, theta1 = 4, 2, 0\n",
        "p1 = (x1, y1, theta1)\n",
        "P1 = system_matrix(*p1)\n",
        "print(\"Robot's coordinate frame matrix:\")\n",
        "print(P1)\n",
        "\n",
        "# Landmark w.r.t. robot's frame\n",
        "l_local = position_vector(-2, 5)\n",
        "print(\"Landmark's position vector:\")\n",
        "print(l_local)\n",
        "\n",
        "# Landmark w.r.t. global frame\n",
        "l_global = P1.dot(l_local)\n",
        "lx_global = l_global[0]\n",
        "ly_global = l_global[1]\n",
        "print(\"Landmark's global position:\")\n",
        "print(l_global)\n",
        "\n",
        "# Plot the global positions\n",
        "plt.scatter([x1], [y1], label = \"Robot\")\n",
        "plt.scatter([lx_global], [ly_global], label = \"Landmark\")\n",
        "\n",
        "plt.grid()\n",
        "plt.legend(loc = \"best\")\n",
        "plt.show()"
      ],
      "metadata": {
        "colab": {
          "base_uri": "https://localhost:8080/",
          "height": 404
        },
        "id": "gQp6xxmBg32H",
        "outputId": "88d24d97-3f0f-4fdd-8a0a-815dd75f6283"
      },
      "execution_count": 6,
      "outputs": [
        {
          "output_type": "stream",
          "name": "stdout",
          "text": [
            "Robot's coordinate frame matrix:\n",
            "[[ 1. -0.  4.]\n",
            " [ 0.  1.  2.]\n",
            " [ 0.  0.  1.]]\n",
            "Landmark's position vector:\n",
            "[-2  5  1]\n",
            "Landmark's global position:\n",
            "[2. 7. 1.]\n"
          ]
        },
        {
          "output_type": "display_data",
          "data": {
            "text/plain": [
              "<Figure size 432x288 with 1 Axes>"
            ],
            "image/png": "[encoded data removed]"
          },
          "metadata": {
            "needs_background": "light"
          }
        }
      ]
    },
    {
      "cell_type": "markdown",
      "source": [
        "### Global $ \\rightarrow $ local\n",
        "\n",
        "Now imagine that you are given the landmark’s coordinates w.r.t. the global frame.\n",
        "The coordinates that the robot will sense in its local frame are then\n",
        "\n",
        "\\begin{equation}\n",
        "    \\mathbf{l_{local}} = \\mathbf{P}^{-1} \\cdot \\mathbf{l_{global}}\n",
        "\\end{equation}\n",
        "\n",
        "where the inverse of the system matrix is\n",
        "\n",
        "\\begin{equation}\n",
        "    \\mathbf{P}^{-1} = \\begin{pmatrix}\n",
        "    \\mathbf{R}^{T} & -\\mathbf{R}^{T}\\mathbf{t} \\\\\n",
        "    0 & 1 \\\\\n",
        "    \\end{pmatrix}\n",
        "\\end{equation}\n"
      ],
      "metadata": {
        "id": "UGaht7wNg32I"
      }
    },
    {
      "cell_type": "code",
      "source": [
        "def inv_system_matrix(system_matrix):\n",
        "    R = system_matrix[0:2, 0:2]\n",
        "    t = system_matrix[0:2, 2]\n",
        "    \n",
        "    R_new = R.T\n",
        "    t_new = (-R.T).dot(t)\n",
        "    \n",
        "    return np.block([\n",
        "        [R_new, np.expand_dims(t_new, axis = 1)],\n",
        "        [0, 0, 1]\n",
        "    ])"
      ],
      "metadata": {
        "id": "FKAEY5H-g32I"
      },
      "execution_count": null,
      "outputs": []
    },
    {
      "cell_type": "code",
      "source": [
        "# Inverse of the robot's system matrix\n",
        "P1_inv = inv_system_matrix(P1)\n",
        "I = np.identity(P1.shape[0])\n",
        "\n",
        "# Make sure that P1_inv is really an inverse of P1\n",
        "assert np.allclose(P1.dot(P1_inv), I) \n",
        "\n",
        "l_global = position_vector(lx_global, ly_global)\n",
        "l_local = P1_inv.dot(l_global)\n",
        "print(\"Landmark's position in the robot's frame:\")\n",
        "print(l_local)"
      ],
      "metadata": {
        "id": "FShsA95jg32I",
        "outputId": "4c4bca70-5bc1-4eb4-83c2-d9cdfe0fb75a"
      },
      "execution_count": null,
      "outputs": [
        {
          "name": "stdout",
          "output_type": "stream",
          "text": "Landmark's position in the robot's frame:\n\n[-2.  5.  1.]\n"
        }
      ]
    },
    {
      "cell_type": "markdown",
      "source": [
        "### Robot's movement\n",
        "\n",
        "The robot moves to a new pose $ \\mathbf{p_2} = (x_2 , y_2 , \\theta_2)^T $ w.r.t. the global frame. Now, we want to find the transformation matrix $ \\mathbf{T_{12}} $ that represents the new pose $ \\mathbf{p_2} $ w.r.t. $ \\mathbf{p_1} $. \n",
        "\n",
        "\\begin{equation}\n",
        "    \\mathbf{P_2} = \\mathbf{T_{12}} \\cdot \\mathbf{P_1}\n",
        "\\end{equation}\n",
        "\n",
        "In order to do that we are going to write $ \\mathbf{T_{12}} $ as a product of homogeneous transformation matrices.\n",
        "\n",
        "\n",
        "\\begin{equation}\n",
        "    \\mathbf{P_{2}} = \\mathbf{P_2} \\cdot \\mathbf{I} = \\mathbf{P_2} \\cdot \\mathbf{P_1}^{-1} \\cdot \\mathbf{P_1} = \\mathbf{T_{12}} \\cdot \\mathbf{P_1}\n",
        "\\end{equation}\n",
        "\n",
        "where\n",
        "\n",
        "\\begin{equation}\n",
        "    \\mathbf{T_{12}} = \\mathbf{P_2} \\cdot \\mathbf{P_1}^{-1}\n",
        "\\end{equation}"
      ],
      "metadata": {
        "id": "QqCbgdAzg32I"
      }
    },
    {
      "cell_type": "code",
      "source": [
        "# Robot's new position\n",
        "x2, y2, theta2 = 1, 1, np.pi/2\n",
        "p2 = (x2, y2, theta2)\n",
        "P2 = system_matrix(*p2)\n",
        "print(\"Robot's new coordinate frame matrix:\")\n",
        "print(P2)\n",
        "\n",
        "# Transformation matrix\n",
        "print(\"Transformation matrix from P1 to P2:\")\n",
        "T_12 = P2.dot(P1_inv)\n",
        "print(T_12)\n",
        "\n",
        "# Make sure that T_12 transforms P1 to P2\n",
        "assert np.allclose(P2, T_12.dot(P1))"
      ],
      "metadata": {
        "id": "RarTAU9sg32J",
        "outputId": "b7b2ecf6-2761-4530-8d57-7415d324fe9e"
      },
      "execution_count": null,
      "outputs": [
        {
          "name": "stdout",
          "output_type": "stream",
          "text": "Robot's new coordinate frame matrix:\n\n[[ 6.123234e-17 -1.000000e+00  1.000000e+00]\n\n [ 1.000000e+00  6.123234e-17  1.000000e+00]\n\n [ 0.000000e+00  0.000000e+00  1.000000e+00]]\n\nTransformation matrix from P1 to P2:\n\n[[ 6.123234e-17 -1.000000e+00  3.000000e+00]\n\n [ 1.000000e+00  6.123234e-17 -3.000000e+00]\n\n [ 0.000000e+00  0.000000e+00  1.000000e+00]]\n"
        }
      ]
    },
    {
      "cell_type": "markdown",
      "source": [
        "The robot is at position $ \\mathbf{p_2} $. The landmark's position w.r.t. the robot’s local frame is now:\n",
        "\n",
        "\\begin{equation}\n",
        "\\begin{cases}\n",
        "    \\mathbf{l_{global}} = \\mathbf{P_1} \\cdot \\mathbf{l_{local}^{P_1}} \\\\\n",
        "    \\mathbf{l_{global}} = \\mathbf{P_2} \\cdot \\mathbf{l_{local}^{P_2}}\n",
        "\\end{cases}\n",
        "\\end{equation}\n",
        "\n",
        "\\begin{equation}\n",
        "\\mathbf{P_1} \\cdot \\mathbf{l_{local}^{P_1}} = \\mathbf{P_2} \\cdot \\mathbf{l_{local}^{P_2}} \\\\\n",
        "\\end{equation}\n",
        "\n",
        "Therefore:\n",
        "\n",
        "\\begin{equation}\n",
        "    \\mathbf{l_{local}^{P_2}} = \\mathbf{P_2}^{-1} \\cdot \\mathbf{P_1} \\cdot \\mathbf{l_{local}^{P_1}}\n",
        "\\end{equation}"
      ],
      "metadata": {
        "id": "6rIzW8AEg32J"
      }
    },
    {
      "cell_type": "code",
      "source": [
        "# Landmarks position w.r.t. P2\n",
        "l_local_P1 = l_local\n",
        "l_local_P2 = inv_system_matrix(P2).dot(P1).dot(l_local_P1)\n",
        "print(\"Landmark's local position vector in the robot's new coordinate frame:\")\n",
        "print(l_local_P2)"
      ],
      "metadata": {
        "id": "kz4LsHyug32J",
        "outputId": "46457160-98df-417f-b921-18c2d8521066"
      },
      "execution_count": null,
      "outputs": [
        {
          "name": "stdout",
          "output_type": "stream",
          "text": "Landmark's local position vector in the robot's new coordinate frame:\n\n[ 6. -1.  1.]\n"
        }
      ]
    },
    {
      "cell_type": "markdown",
      "source": [
        "### 3D Rotations and Euler angles in Python\n",
        "**Euler’s theorem**\n",
        "“Each movement of a rigid body in three-dimensional space, with a point that remains fixed, is equivalent to a single rotation of the body around an axis passing through the fixed point”\n",
        "\n",
        "This theorem was formulated by Euler in 1775.\n",
        "\n",
        "In other words, if we consider two Cartesian reference systems, one (X0,Y0,Z0) and the other (X1,Y1,Z1) which have the same origin point O, but different orientation, there will always be a single axis of rotation with which the first system will assume the same configuration as the second system.\n",
        "\n",
        "Angoli di Eulero - due sistemi di riferimento\n",
        "In an even simpler way, any rotation can be described by a sequence of three successive rotations, also called elementary rotations, which occur around one of the three coordinate axes X, Y and Z\n",
        "\n",
        "\n",
        "**Elementary rotations**\n",
        "There are therefore three elementary rotations, each around its Cartesian reference axis X, Y and Z. But the rotation around an axis can occur in two opposite directions. But which of the two is the positive one?\n",
        "\n",
        "Rotation around an axis is positive if it meets the right hand rule. For example in the case of rotation around the z axis, the rotation will be positive depending on the arrangement of the X and Y axes in the representation.\n",
        "\n",
        "Questa immagine ha l'attributo alt vuoto; il nome del file è Angoli-di-Eulero-Rotazione-elementare-regola-della-mano-destra.jpg\n",
        "Therefore the direction of the three elementary rotations will be the one shown in the following figure.\n",
        "\n",
        "Questa immagine ha l'attributo alt vuoto; il nome del file è Angoli-di-Eulero-verso-delle-rotazioni-elementari.jpg\n",
        "Each elementary rotation can be transcribed as a 3×3 matrix (homogeneous transformation).\n",
        "\n",
        "Rotation on the X axis\n",
        " R{x} = \\begin{pmatrix} 1 & 0 & 0 \\\\ 0 & \\cos\\theta & -\\sin\\theta \\\\ 0 & \\sin\\theta & \\cos\\theta \\end{pmatrix} \n",
        "\n",
        "Rotation on the Y axis\n",
        " R{y} = \\begin{pmatrix} \\cos\\theta & 0 & \\sin\\theta \\\\ 0 & 1 & 0 \\\\ -\\sin\\theta & 0 & \\cos\\theta \\end{pmatrix} \n",
        "\n",
        "Rotation on the Z axis\n",
        " R{z} = \\begin{pmatrix} \\cos\\theta & -\\sin\\theta & 0 \\\\ \\sin\\theta & \\cos\\theta & 0 \\\\ 0 & 0 & 1 \\end{pmatrix} "
      ],
      "metadata": {
        "id": "sDY09NnHg32J"
      }
    },
    {
      "cell_type": "code",
      "source": [
        "import numpy as np\n",
        "import math as m\n",
        "  \n",
        "def Rx(theta):\n",
        "  return np.matrix([[ 1, 0           , 0           ],\n",
        "                   [ 0, m.cos(theta),-m.sin(theta)],\n",
        "                   [ 0, m.sin(theta), m.cos(theta)]])\n",
        "  \n",
        "def Ry(theta):\n",
        "  return np.matrix([[ m.cos(theta), 0, m.sin(theta)],\n",
        "                   [ 0           , 1, 0           ],\n",
        "                   [-m.sin(theta), 0, m.cos(theta)]])\n",
        "  \n",
        "def Rz(theta):\n",
        "  return np.matrix([[ m.cos(theta), -m.sin(theta), 0 ],\n",
        "                   [ m.sin(theta), m.cos(theta) , 0 ],\n",
        "                   [ 0           , 0            , 1 ]])"
      ],
      "metadata": {
        "trusted": true,
        "id": "7M3K3ncLg32J"
      },
      "execution_count": null,
      "outputs": []
    },
    {
      "cell_type": "markdown",
      "source": [
        "**Euler’s angles**\n",
        "Therefore a generic rotation is described in turn by a rotation matrix R. Any matrix of this type can be described as the product of successive rotations around the principal axes of the XYZ coordinates, taken in a precise order.\n",
        "\n",
        "So any rotation could be decomposed into the sequence of three elementary matrices. For example, the most intuitive is that which is obtained first by performing a rotation on the X axis by an angle φ, then on the Y axis by an angle θ and finally on the Z axis by an angle ψ\n",
        "\n",
        " R{x} (\\varphi) \\rightarrow R{y} (\\theta) \\rightarrow R{z} (\\psi) \n",
        "\n",
        "The triplet of the angles used in these elementary rotations are the Euler angles and are normally indicated (φ, θ, ψ).\n",
        "\n",
        "Let’s take an example in Python. We choose three euler angles and then we multiply the elementary rotation matrices R ZYZ"
      ],
      "metadata": {
        "id": "zvfLrmE-g32K"
      }
    },
    {
      "cell_type": "code",
      "source": [
        "phi = m.pi/2\n",
        "theta = m.pi/4\n",
        "psi = m.pi/2\n",
        "print(\"phi =\", phi)\n",
        "print(\"theta  =\", theta)\n",
        "print(\"psi =\", psi)\n",
        "  \n",
        "  \n",
        "R = Rz(psi) * Ry(theta) * Rx(phi)\n",
        "print(np.round(R, decimals=2))"
      ],
      "metadata": {
        "trusted": true,
        "id": "brGERUTfg32K",
        "outputId": "88c77969-e6d8-473c-b268-11f766af43db"
      },
      "execution_count": null,
      "outputs": [
        {
          "name": "stdout",
          "text": "phi = 1.5707963267948966\ntheta  = 0.7853981633974483\npsi = 1.5707963267948966\n[[ 0.   -0.    1.  ]\n [ 0.71  0.71 -0.  ]\n [-0.71  0.71  0.  ]]\n",
          "output_type": "stream"
        }
      ]
    },
    {
      "cell_type": "markdown",
      "source": [
        "But it is also possible to perform the reverse operation. That is, knowing the rotation matrix, it is possible to derive the three Euler angles."
      ],
      "metadata": {
        "id": "kPChPnmig32K"
      }
    },
    {
      "cell_type": "code",
      "source": [
        "import sys\n",
        "tol = sys.float_info.epsilon * 10\n",
        "  \n",
        "if abs(R.item(0,0))< tol and abs(R.item(1,0)) < tol:\n",
        "   eul1 = 0\n",
        "   eul2 = m.atan2(-R.item(2,0), R.item(0,0))\n",
        "   eul3 = m.atan2(-R.item(1,2), R.item(1,1))\n",
        "else:   \n",
        "   eul1 = m.atan2(R.item(1,0),R.item(0,0))\n",
        "   sp = m.sin(eul1)\n",
        "   cp = m.cos(eul1)\n",
        "   eul2 = m.atan2(-R.item(2,0),cp*R.item(0,0)+sp*R.item(1,0))\n",
        "   eul3 = m.atan2(sp*R.item(0,2)-cp*R.item(1,2),cp*R.item(1,1)-sp*R.item(0,1))\n",
        "  \n",
        "print(\"phi =\", eul1)\n",
        "print(\"theta  =\", eul2)\n",
        "print(\"psi =\", eul3)"
      ],
      "metadata": {
        "trusted": true,
        "id": "nKtrs557g32K",
        "outputId": "6f09fd4c-2ce5-42b0-9677-8e839a3ce518"
      },
      "execution_count": null,
      "outputs": [
        {
          "name": "stdout",
          "text": "phi = 1.5707963267948966\ntheta  = 0.7853981633974483\npsi = 1.5707963267948966\n",
          "output_type": "stream"
        }
      ]
    },
    {
      "cell_type": "markdown",
      "source": [
        "The ZYZ convention\n",
        "In addition to the XYZ sequence, another very common one is the one that refers to the convention associated with the ZYZ angles characterized by the following operations:\n",
        "\\begin{equation}\n",
        " R{z} (\\varphi) \\rightarrow R{y} (\\theta) \\rightarrow R{z} (\\psi) \n",
        "\\end{equation}\n",
        "Rotation of an angle φ around the z axis\n",
        "Rotation of an angle θ around the y axis (current)\n",
        "Rotation of an angle ψ around the z axis (current)\n",
        "The order of the elementary rotations changes the final result.\n",
        "\n",
        "Angoli di Eulero - Rotazione RzRyRz\n",
        "Where also here the angles φ, θ and ψ are the Euler angles.\n",
        "\n",
        "For the ZYZ convection, the Euler angles have a particular nomenclature:\n",
        "\n",
        "φ is the Precession angle with values [0, 2π]\n",
        "θ is the angle of nutation\n",
        "ψ is the angle of proper rotation\n",
        "Each of the three rotations can be represented mathematically by a rotation matrix. The matrix relating to the overall rotation is calculated by multiplying the 3 matrices in the reverse order.\n",
        "\n",
        "Therefore, by multiplying in the reverse order we obtain the matrix relating to the overall rotation:\n",
        "\\begin{equation}\n",
        " R{zyz} = R{z}R{y}R{z} \n",
        "\\end{equation}\n",
        "We also see this case in Python. We reinsert the same three Euler angles and multiply the three elementary rotation matrices in the right sequence"
      ],
      "metadata": {
        "id": "dJmouMgzg32K"
      }
    },
    {
      "cell_type": "code",
      "source": [
        "phi = m.pi/2\n",
        "theta = m.pi/4\n",
        "psi = m.pi/2\n",
        "print(\"phi =\", phi)\n",
        "print(\"theta  =\", theta)\n",
        "print(\"psi =\", psi)\n",
        "  \n",
        "  \n",
        "R = Rz(psi) * Ry(theta) * Rz(phi)\n",
        "print(np.round(R, decimals=2))"
      ],
      "metadata": {
        "id": "DwEcf4Xcg32K"
      },
      "execution_count": null,
      "outputs": []
    },
    {
      "cell_type": "markdown",
      "source": [
        "you can perform the reverse operation. That is, knowing the general rotation matrix, obtain the three Euler angles. Since the condition is different, the mathematical expressions to derive them are also different."
      ],
      "metadata": {
        "id": "7st3_zQQg32K"
      }
    },
    {
      "cell_type": "code",
      "source": [
        "eul1 = m.atan2(R.item(1,2),R.item(0,2))\n",
        "sp = m.sin(eul1)\n",
        "cp = m.cos(eul1)\n",
        "eul2 = m.atan2(cp*R.item(0,2)+sp*R.item(1,2), R.item(2,2))\n",
        "eul3 = m.atan2(-sp*R.item(0,0)+cp*R.item(1,0),-sp*R.item(0,1)+cp*R.item(1,1))\n",
        "  \n",
        "print(\"phi =\", eul1)\n",
        "print(\"theta =\", eul2)\n",
        "print(\"psi =\", eul3)"
      ],
      "metadata": {
        "id": "0hRAbYN-g32K"
      },
      "execution_count": null,
      "outputs": []
    },
    {
      "cell_type": "markdown",
      "source": [
        "**Calculate Rotation Matrix from Euler Angles**\n",
        "\n",
        "This script calculate the 3×3 rotation matrix from Euler angles and rotation order."
      ],
      "metadata": {
        "id": "JjC5-rBhhjVC"
      }
    },
    {
      "cell_type": "code",
      "source": [
        "import numpy as np\n",
        "\n",
        "def rotation_matrix(theta1, theta2, theta3, order='xyz'):\n",
        "    \"\"\"\n",
        "    input\n",
        "        theta1, theta2, theta3 = rotation angles in rotation order (degrees)\n",
        "        oreder = rotation order of x,y,z　e.g. XZY rotation -- 'xzy'\n",
        "    output\n",
        "        3x3 rotation matrix (numpy array)\n",
        "    \"\"\"\n",
        "    c1 = np.cos(theta1 * np.pi / 180)\n",
        "    s1 = np.sin(theta1 * np.pi / 180)\n",
        "    c2 = np.cos(theta2 * np.pi / 180)\n",
        "    s2 = np.sin(theta2 * np.pi / 180)\n",
        "    c3 = np.cos(theta3 * np.pi / 180)\n",
        "    s3 = np.sin(theta3 * np.pi / 180)\n",
        "\n",
        "    if order == 'xzx':\n",
        "        matrix=np.array([[c2, -c3*s2, s2*s3],\n",
        "                         [c1*s2, c1*c2*c3-s1*s3, -c3*s1-c1*c2*s3],\n",
        "                         [s1*s2, c1*s3+c2*c3*s1, c1*c3-c2*s1*s3]])\n",
        "    elif order=='xyx':\n",
        "        matrix=np.array([[c2, s2*s3, c3*s2],\n",
        "                         [s1*s2, c1*c3-c2*s1*s3, -c1*s3-c2*c3*s1],\n",
        "                         [-c1*s2, c3*s1+c1*c2*s3, c1*c2*c3-s1*s3]])\n",
        "    elif order=='yxy':\n",
        "        matrix=np.array([[c1*c3-c2*s1*s3, s1*s2, c1*s3+c2*c3*s1],\n",
        "                         [s2*s3, c2, -c3*s2],\n",
        "                         [-c3*s1-c1*c2*s3, c1*s2, c1*c2*c3-s1*s3]])\n",
        "    elif order=='yzy':\n",
        "        matrix=np.array([[c1*c2*c3-s1*s3, -c1*s2, c3*s1+c1*c2*s3],\n",
        "                         [c3*s2, c2, s2*s3],\n",
        "                         [-c1*s3-c2*c3*s1, s1*s2, c1*c3-c2*s1*s3]])\n",
        "    elif order=='zyz':\n",
        "        matrix=np.array([[c1*c2*c3-s1*s3, -c3*s1-c1*c2*s3, c1*s2],\n",
        "                         [c1*s3+c2*c3*s1, c1*c3-c2*s1*s3, s1*s2],\n",
        "                         [-c3*s2, s2*s3, c2]])\n",
        "    elif order=='zxz':\n",
        "        matrix=np.array([[c1*c3-c2*s1*s3, -c1*s3-c2*c3*s1, s1*s2],\n",
        "                         [c3*s1+c1*c2*s3, c1*c2*c3-s1*s3, -c1*s2],\n",
        "                         [s2*s3, c3*s2, c2]])\n",
        "    elif order=='xyz':\n",
        "        matrix=np.array([[c2*c3, -c2*s3, s2],\n",
        "                         [c1*s3+c3*s1*s2, c1*c3-s1*s2*s3, -c2*s1],\n",
        "                         [s1*s3-c1*c3*s2, c3*s1+c1*s2*s3, c1*c2]])\n",
        "    elif order=='xzy':\n",
        "        matrix=np.array([[c2*c3, -s2, c2*s3],\n",
        "                         [s1*s3+c1*c3*s2, c1*c2, c1*s2*s3-c3*s1],\n",
        "                         [c3*s1*s2-c1*s3, c2*s1, c1*c3+s1*s2*s3]])\n",
        "    elif order=='yxz':\n",
        "        matrix=np.array([[c1*c3+s1*s2*s3, c3*s1*s2-c1*s3, c2*s1],\n",
        "                         [c2*s3, c2*c3, -s2],\n",
        "                         [c1*s2*s3-c3*s1, c1*c3*s2+s1*s3, c1*c2]])\n",
        "    elif order=='yzx':\n",
        "        matrix=np.array([[c1*c2, s1*s3-c1*c3*s2, c3*s1+c1*s2*s3],\n",
        "                         [s2, c2*c3, -c2*s3],\n",
        "                         [-c2*s1, c1*s3+c3*s1*s2, c1*c3-s1*s2*s3]])\n",
        "    elif order=='zyx':\n",
        "        matrix=np.array([[c1*c2, c1*s2*s3-c3*s1, s1*s3+c1*c3*s2],\n",
        "                         [c2*s1, c1*c3+s1*s2*s3, c3*s1*s2-c1*s3],\n",
        "                         [-s2, c2*s3, c2*c3]])\n",
        "    elif order=='zxy':\n",
        "        matrix=np.array([[c1*c3-s1*s2*s3, -c2*s1, c1*s3+c3*s1*s2],\n",
        "                         [c3*s1+c1*s2*s3, c1*c2, s1*s3-c1*c3*s2],\n",
        "                         [-c2*s3, s2, c2*c3]])\n",
        "\n",
        "    return matrix"
      ],
      "metadata": {
        "id": "ak1f07gBg32K"
      },
      "execution_count": 7,
      "outputs": []
    },
    {
      "cell_type": "markdown",
      "source": [
        "**Calculate Euler angles from a Rotation Matrix**\n",
        "\n",
        "This script calculate Euler angle from a 3×3 rotation matrix and rotation order.\n"
      ],
      "metadata": {
        "id": "8sHKReDeiJwI"
      }
    },
    {
      "cell_type": "code",
      "source": [
        "def rotation_angles(matrix, order):\n",
        "    \"\"\"\n",
        "    input\n",
        "        matrix = 3x3 rotation matrix (numpy array)\n",
        "        oreder(str) = rotation order of x, y, z : e.g, rotation XZY -- 'xzy'\n",
        "    output\n",
        "        theta1, theta2, theta3 = rotation angles in rotation order\n",
        "    \"\"\"\n",
        "    r11, r12, r13 = matrix[0]\n",
        "    r21, r22, r23 = matrix[1]\n",
        "    r31, r32, r33 = matrix[2]\n",
        "\n",
        "    if order == 'xzx':\n",
        "        theta1 = np.arctan(r31 / r21)\n",
        "        theta2 = np.arctan(r21 / (r11 * np.cos(theta1)))\n",
        "        theta3 = np.arctan(-r13 / r12)\n",
        "\n",
        "    elif order == 'xyx':\n",
        "        theta1 = np.arctan(-r21 / r31)\n",
        "        theta2 = np.arctan(-r31 / (r11 *np.cos(theta1)))\n",
        "        theta3 = np.arctan(r12 / r13)\n",
        "\n",
        "    elif order == 'yxy':\n",
        "        theta1 = np.arctan(r12 / r32)\n",
        "        theta2 = np.arctan(r32 / (r22 *np.cos(theta1)))\n",
        "        theta3 = np.arctan(-r21 / r23)\n",
        "\n",
        "    elif order == 'yzy':\n",
        "        theta1 = np.arctan(-r32 / r12)\n",
        "        theta2 = np.arctan(-r12 / (r22 *np.cos(theta1)))\n",
        "        theta3 = np.arctan(r23 / r21)\n",
        "\n",
        "    elif order == 'zyz':\n",
        "        theta1 = np.arctan(r23 / r13)\n",
        "        theta2 = np.arctan(r13 / (r33 *np.cos(theta1)))\n",
        "        theta3 = np.arctan(-r32 / r31)\n",
        "\n",
        "    elif order == 'zxz':\n",
        "        theta1 = np.arctan(-r13 / r23)\n",
        "        theta2 = np.arctan(-r23 / (r33 *np.cos(theta1)))\n",
        "        theta3 = np.arctan(r31 / r32)\n",
        "\n",
        "    elif order == 'xzy':\n",
        "        theta1 = np.arctan(r32 / r22)\n",
        "        theta2 = np.arctan(-r12 * np.cos(theta1) / r22)\n",
        "        theta3 = np.arctan(r13 / r11)\n",
        "\n",
        "    elif order == 'xyz':\n",
        "        theta1 = np.arctan(-r23 / r33)\n",
        "        theta2 = np.arctan(r13 * np.cos(theta1) / r33)\n",
        "        theta3 = np.arctan(-r12 / r11)\n",
        "\n",
        "    elif order == 'yxz':\n",
        "        theta1 = np.arctan(r13 / r33)\n",
        "        theta2 = np.arctan(-r23 * np.cos(theta1) / r33)\n",
        "        theta3 = np.arctan(r21 / r22)\n",
        "\n",
        "    elif order == 'yzx':\n",
        "        theta1 = np.arctan(-r31 / r11)\n",
        "        theta2 = np.arctan(r21 * np.cos(theta1) / r11)\n",
        "        theta3 = np.arctan(-r23 / r22)\n",
        "\n",
        "    elif order == 'zyx':\n",
        "        theta1 = np.arctan(r21 / r11)\n",
        "        theta2 = np.arctan(-r31 * np.cos(theta1) / r11)\n",
        "        theta3 = np.arctan(r32 / r33)\n",
        "\n",
        "    elif order == 'zxy':\n",
        "        theta1 = np.arctan(-r12 / r22)\n",
        "        theta2 = np.arctan(r32 * np.cos(theta1) / r22)\n",
        "        theta3 = np.arctan(-r31 / r33)\n",
        "\n",
        "    theta1 = theta1 * 180 / np.pi\n",
        "    theta2 = theta2 * 180 / np.pi\n",
        "    theta3 = theta3 * 180 / np.pi\n",
        "\n",
        "    return (theta1, theta2, theta3)"
      ],
      "metadata": {
        "id": "Wf7m-eK5iJPh"
      },
      "execution_count": 8,
      "outputs": []
    },
    {
      "cell_type": "code",
      "source": [
        "\n",
        "rotation_mat = rotation_matrix(10, 20, 30, 'yzx')\n",
        "# calculate a rotation matrix of 10° 20° 30° rotation in YZX order.\n",
        "print(rotation_mat)\n",
        "# [[ 0.92541658 -0.20487413  0.31879578]\n",
        "#  [ 0.34202014  0.81379768 -0.46984631]\n",
        "#  [-0.16317591  0.54383814  0.82317294]]\n",
        "\n",
        "angles = rotation_angles(rotation_mat, 'yzx')\n",
        "#Calculate Euler angles of YZX order from the rotation matrix\n",
        "\n",
        "print(angles)\n",
        "# (10.0, 20.0, 29.999999999999993)\n",
        "#"
      ],
      "metadata": {
        "colab": {
          "base_uri": "https://localhost:8080/"
        },
        "id": "ur9-OLtZiXdu",
        "outputId": "812aeed5-b26e-42df-bb0a-c77a283254f3"
      },
      "execution_count": 10,
      "outputs": [
        {
          "output_type": "stream",
          "name": "stdout",
          "text": [
            "[[ 0.92541658 -0.20487413  0.31879578]\n",
            " [ 0.34202014  0.81379768 -0.46984631]\n",
            " [-0.16317591  0.54383814  0.82317294]]\n",
            "(10.0, 20.0, 29.999999999999996)\n"
          ]
        }
      ]
    },
    {
      "cell_type": "markdown",
      "source": [
        "Given Euler angles of the following form… (φ, θ, ψ).\n",
        "\n",
        "Rotation about the x axis = roll angle = φ \n",
        "\n",
        "Rotation about the y-axis = pitch angle = θ \n",
        "\n",
        "Rotation about the z-axis = yaw angle = ψ\n",
        "\n",
        "…how do we convert this into a quaternion of the form  (x, y, z, w) where w is the scalar (real) part and x, y, and z are the vector parts?"
      ],
      "metadata": {
        "id": "nPssUq9LmjNJ"
      }
    },
    {
      "cell_type": "code",
      "source": [
        "import numpy as np # Scientific computing library for Python\n",
        " \n",
        "def get_quaternion_from_euler(roll, pitch, yaw):\n",
        "  \"\"\"\n",
        "  Convert an Euler angle to a quaternion.\n",
        "   \n",
        "  Input\n",
        "    :param roll: The roll (rotation around x-axis) angle in radians.\n",
        "    :param pitch: The pitch (rotation around y-axis) angle in radians.\n",
        "    :param yaw: The yaw (rotation around z-axis) angle in radians.\n",
        " \n",
        "  Output\n",
        "    :return qx, qy, qz, qw: The orientation in quaternion [x,y,z,w] format\n",
        "  \"\"\"\n",
        "  qx = np.sin(roll/2) * np.cos(pitch/2) * np.cos(yaw/2) - np.cos(roll/2) * np.sin(pitch/2) * np.sin(yaw/2)\n",
        "  qy = np.cos(roll/2) * np.sin(pitch/2) * np.cos(yaw/2) + np.sin(roll/2) * np.cos(pitch/2) * np.sin(yaw/2)\n",
        "  qz = np.cos(roll/2) * np.cos(pitch/2) * np.sin(yaw/2) - np.sin(roll/2) * np.sin(pitch/2) * np.cos(yaw/2)\n",
        "  qw = np.cos(roll/2) * np.cos(pitch/2) * np.cos(yaw/2) + np.sin(roll/2) * np.sin(pitch/2) * np.sin(yaw/2)\n",
        " \n",
        "  return [qx, qy, qz, qw]"
      ],
      "metadata": {
        "id": "rxNnOecSmV6W"
      },
      "execution_count": 11,
      "outputs": []
    },
    {
      "cell_type": "code",
      "source": [
        "print(get_quaternion_from_euler(0.0, 0.0, 1.5708))"
      ],
      "metadata": {
        "colab": {
          "base_uri": "https://localhost:8080/"
        },
        "id": "VUDPadhkmbAp",
        "outputId": "9540837d-38f0-4aba-8f52-0833174d4007"
      },
      "execution_count": 12,
      "outputs": [
        {
          "output_type": "stream",
          "name": "stdout",
          "text": [
            "[0.0, 0.0, 0.7071080798594735, 0.7071054825112363]\n"
          ]
        }
      ]
    }
  ]
}