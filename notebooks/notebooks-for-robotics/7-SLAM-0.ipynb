{
 "cells": [
  {
   "cell_type": "markdown",
   "metadata": {},
   "source": [
    "# 7. Simultaneous Localization and Mapping\n",
    "\n",
    "Simultaneous Localization And Mapping (SLAM) is one of the most fundamental problems in robotics.\n",
    "It arises when our robot doesn't have access to a map of the environment nor the pose where it is located.\n",
    "In this way, the SLAM problem is more complex than the two separate ones in the previous chapters, localization and mapping.\n",
    "\n",
    "There are mainly two ways to address the SLAM problem:\n",
    "\n",
    "- **Full SLAM**: Estimates the whole path traversed at each step, that is:\n",
    "$$p( x_{1:k}, m_{1:L} | z_{1:k}, u_{1:k})$$     \n",
    "\n",
    "\n",
    "- **Online SLAM**: Which only estimates the latest pose (we do not consider $x_{1:k-1}$), so:\n",
    "$$p(x_{k}, m_{1:L} | z_{1:k}, u_{1:k})$$\n",
    "\n",
    "\n"
   ]
  },
  {
   "cell_type": "markdown",
   "metadata": {},
   "source": [
    "## <span style=\"color:green\">OPTIONAL</span>\n",
    "\n",
    "<span style=\"color:green\">Surf the internet looking for more general information about SLAM. You can include additional definitions, examples, images, videos,... anything you find interesting!</span>"
   ]
  },
  {
   "cell_type": "markdown",
   "metadata": {},
   "source": [
    "Your work here..."
   ]
  },
  {
   "cell_type": "markdown",
   "metadata": {},
   "source": [
    "<span style=\"color:green\">***END OF OPTIONAL PART***</span>"
   ]
  }
 ],
 "metadata": {
  "kernelspec": {
   "display_name": "Python 3",
   "language": "python",
   "name": "python3"
  },
  "language_info": {
   "codemirror_mode": {
    "name": "ipython",
    "version": 3
   },
   "file_extension": ".py",
   "mimetype": "text/x-python",
   "name": "python",
   "nbconvert_exporter": "python",
   "pygments_lexer": "ipython3",
   "version": "3.6.7"
  }
 },
 "nbformat": 4,
 "nbformat_minor": 2
}
