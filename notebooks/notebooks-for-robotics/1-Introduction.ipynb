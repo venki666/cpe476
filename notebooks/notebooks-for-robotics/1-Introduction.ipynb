{
 "cells": [
  {
   "cell_type": "markdown",
   "metadata": {},
   "source": [
    "# Lesson 0. Introduction\n",
    "\n",
    "This introductory notebook is a collection of useful things that you may use along the practices.\n",
    "\n",
    "## Jupyter notebooks\n",
    "\n",
    "During this course we will use the Jupyter notebooks to complete the practices.\n",
    "They are fairly easy to use and good for mixing explainations and interactive code.\n",
    "\n",
    "A Jupyter notebook is composed of cells that can be of three types:\n",
    "\n",
    "  - Code cells: their content is considered as executable code that can produce a result displayed below the cell.\n",
    "  - Markdown Cells: Text cells formatted uwing the Markdown language (for example, this one). In case you haven't used it before you can look up this [introduction](https://www.markdownguide.org/getting-started) or this [cheatsheet](https://github.com/adam-p/markdown-here/wiki/Markdown-Cheatsheet).\n",
    "  - Raw cells: the content of these cells is not evaluated by the notebook kernel.\n",
    "  \n",
    "In this way, the notebooks provided in this course have a number of markdown cells including theory, pictures, ecuations, etc., as well as code cells with parts to be completed by the students. \n",
    "\n",
    "Code cell example. You can execute it with the \"Run\" button, with \"Cell->Run cell\" or, my favorite, by pushing \"Ctrl+Enter\" in the cell."
   ]
  },
  {
   "cell_type": "code",
   "execution_count": null,
   "metadata": {},
   "outputs": [],
   "source": [
    "from scipy.special import perm\n",
    "#find permutation of 5, 2 using perm (N, k) function\n",
    "per = perm(5, 2, exact = True)\n",
    "print(\"Number of permutations: \" + str(per))"
   ]
  },
  {
   "cell_type": "markdown",
   "metadata": {},
   "source": [
    "### Notes\n",
    "\n",
    "1. If you feel stuck and you need a more capable **debugging** tool, there is a way to convert a notebook into a normal python script.\n",
    "\n",
    "  - Whithin the editor in File > Save as... > Python \n",
    "  - On the command line use the following: `jupyter nbconvert --to script YYY.ipynb` to convert whatever notebook you like.\n",
    "\n",
    "  Then you can debug it normally using an editor/IDE like **Visual Studio Code**, **Spyder** or **PyCharm**.\n",
    "  \n",
    "2. In the case, some visualization is bugged or doesn't display properly, there is a chance that `Restart Kernel and Run all Cells` could fix it."
   ]
  },
  {
   "cell_type": "markdown",
   "metadata": {},
   "source": [
    "## Python resources\n",
    "The following packages are going to be intensively used in the course, so it is worth introducing them."
   ]
  },
  {
   "cell_type": "markdown",
   "metadata": {},
   "source": [
    "## Numpy and Scipy\n",
    "\n",
    "For the creation of arrays and matrices, we'll use Numpy [(docs here)](https://docs.scipy.org/doc/numpy/reference/) and some functions from Scipy [(docs here)](https://docs.scipy.org/doc/scipy/reference/).\n",
    "\n",
    "- **Array creation**: In the code, we'll always use numpy arrays(`np.ndarray` class) created by:\n",
    "    - `np.array([...])`: For normal array creation\n",
    "    - `np.vstack([...])` and `np.hstack([...])`: For vertical and horizontal concatenation respectively.\n",
    "    - `np.diag([...])`: To create a diagonal matrix.\n",
    "- **Matrix operations**: There exist another class called `np.matrix` that eases some operations: inverse, transpose,... I will not use it in our code as it is marked for future deprecation. Instead you may use the following functions:\n",
    "    - `scipy.linalg.inv()`: For the **inverse** of a matrix.\n",
    "    - If we have a ndarray called `A` we can use `A.T` for the **transpose**. In the case A is a flat ndarray and we want a vertical vector `np.vstack(A)` may be used, as `A.T` will not return our expected output.\n",
    "    - For **matrix multiplication** the `@` operator is defined on ndarrays as such. Use: `A@B`\n",
    "- **Random value generation**: we will use in most the module `numpy.random` . But we may also use the `scipy.stats` module in some cases. There are few differences between the two."
   ]
  },
  {
   "cell_type": "markdown",
   "metadata": {},
   "source": [
    "### Matplotlib\n",
    "\n",
    "We use Matplotlib, more explicitely the `matplotlib.pyplot` module [(docs here)](https://matplotlib.org/api/_as_gen/matplotlib.pyplot.html) for plotting the different figures along the practices. In some cases we will provide you with the code to plot, in others you'll have to do it yourself.\n",
    "\n",
    "If you see some wierd code such as `%matplotlib notebook`, `%matplotlib inline` or `matplotlib.use('TkAgg')` you shouldn't care much about it. The first two are jupyter magic commands [(more info here)](https://ipython.readthedocs.io/en/stable/interactive/magics.html) to select which plotting backend to use.\n",
    "\n",
    "Some of the more relevant functions are:\n",
    "\n",
    "- `plt.figure()` or `plt.subplots()` to create a new plot.\n",
    "- `plt.plot()`: Catch-all plotting function. Depending on the parameters it can be used for drawing lines or scatter plots. It returns a plot handler that can be used to erase the drawing using `h.pop(0).remove()`.\n",
    "- `plt.hist()`: Creating histograms"
   ]
  }
 ],
 "metadata": {
  "kernelspec": {
   "display_name": "Python 3",
   "language": "python",
   "name": "python3"
  },
  "language_info": {
   "codemirror_mode": {
    "name": "ipython",
    "version": 3
   },
   "file_extension": ".py",
   "mimetype": "text/x-python",
   "name": "python",
   "nbconvert_exporter": "python",
   "pygments_lexer": "ipython3",
   "version": "3.6.7"
  }
 },
 "nbformat": 4,
 "nbformat_minor": 2
}
