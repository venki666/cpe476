{
 "cells": [
  {
   "cell_type": "markdown",
   "metadata": {},
   "source": [
    "# 5. Robot localization\n",
    "\n",
    "In the upcoming chapters we will cover three fundamental aspects of mobile robots: robot localization, map building, and simultaneous localization and mapping (SLAM). \n",
    "\n",
    "Citing Cox [1]:\n",
    "\n",
    "> *Using sensory information to locate the robot in its environment is the most fundamental problem to providing a mobile robot with autonomous capabilities*\n",
    "\n",
    "Concretely, the goal is, given a map of the environment and a sequence of sensor measurements, to retrieve the robot's pose in such environment. \n",
    "\n",
    "Localization problems can be further grouped into:\n",
    "- **Position tracking**: the robot knows approximately where it is (for example, using odometry readings, which have to come at a certain frequency).\n",
    "- **Global localization**: the robot has no clue where it is (*e.g.* GPS). It is needed when the robot is turned on.\n",
    "- **Kidnapped robot problem**: the robot thinks that it knows where it is, but is wrong!"
   ]
  },
  {
   "cell_type": "markdown",
   "metadata": {},
   "source": [
    "## <span style=\"color:green\">OPTIONAL</span>\n",
    "\n",
    "<span style=\"color:green\">Surf the internet looking for more general information about robot localization. You can include additional definition, examples, images, videos,... anything you find interesting!</span>"
   ]
  },
  {
   "cell_type": "markdown",
   "metadata": {},
   "source": [
    "Your work here..."
   ]
  },
  {
   "cell_type": "markdown",
   "metadata": {},
   "source": [
    "<span style=\"color:green\">***END OF OPTIONAL PART***</span>"
   ]
  },
  {
   "cell_type": "markdown",
   "metadata": {},
   "source": [
    "## References \n",
    "\n",
    "[1] Cox, Ingemar J. \"Blanche-an experiment in guidance and navigation of an autonomous robot vehicle.\" IEEE Transactions on robotics and automation 7, no. 2 (1991): 193-204."
   ]
  }
 ],
 "metadata": {
  "kernelspec": {
   "display_name": "Python 3",
   "language": "python",
   "name": "python3"
  },
  "language_info": {
   "codemirror_mode": {
    "name": "ipython",
    "version": 3
   },
   "file_extension": ".py",
   "mimetype": "text/x-python",
   "name": "python",
   "nbconvert_exporter": "python",
   "pygments_lexer": "ipython3",
   "version": "3.6.7"
  }
 },
 "nbformat": 4,
 "nbformat_minor": 2
}
