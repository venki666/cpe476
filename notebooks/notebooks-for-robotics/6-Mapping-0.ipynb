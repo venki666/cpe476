{
 "cells": [
  {
   "cell_type": "markdown",
   "metadata": {},
   "source": [
    "# 6. Mapping\n",
    "\n",
    "In the previous chapter we studied different methods for localizing a robot equipped with a sensor able to take measurements to a number of landmarks with known positions, that is, the map $m$ of the environment was given before hand. Now we will review a number of techniques addressing the opposite problem: to build a map $m$ of the environment given a set of robot poses $x$ and sensor measurements $z$. \n",
    "\n",
    "There exist different types of maps, being the most used ones:\n",
    "- **Geometric maps**\n",
    "  - ***Landmarks based maps***\n",
    "  - ***Occupancy grid maps***\n",
    "- **Topological maps**\n",
    "- **Semantic maps**\n",
    "\n",
    "Concretely, in the next section we are going to take a look at the Extended Kalman Filter for building landmarks based maps."
   ]
  },
  {
   "cell_type": "markdown",
   "metadata": {},
   "source": [
    "## <span style=\"color:green\">OPTIONAL</span>\n",
    "\n",
    "<span style=\"color:green\">Surf the internet looking for more general information about robot mapping. You can include additional definition, examples, images, videos,... anything you find interesting!</span>"
   ]
  },
  {
   "cell_type": "markdown",
   "metadata": {},
   "source": [
    "Your work here..."
   ]
  },
  {
   "cell_type": "markdown",
   "metadata": {},
   "source": [
    "<span style=\"color:green\">***END OF OPTIONAL PART***</span>"
   ]
  }
 ],
 "metadata": {
  "kernelspec": {
   "display_name": "Python 3",
   "language": "python",
   "name": "python3"
  },
  "language_info": {
   "codemirror_mode": {
    "name": "ipython",
    "version": 3
   },
   "file_extension": ".py",
   "mimetype": "text/x-python",
   "name": "python",
   "nbconvert_exporter": "python",
   "pygments_lexer": "ipython3",
   "version": "3.6.7"
  }
 },
 "nbformat": 4,
 "nbformat_minor": 2
}
